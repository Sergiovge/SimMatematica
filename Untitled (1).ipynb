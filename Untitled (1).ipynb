{
  "metadata": {
    "kernelspec": {
      "name": "python",
      "display_name": "Python (Pyodide)",
      "language": "python"
    },
    "language_info": {
      "codemirror_mode": {
        "name": "python",
        "version": 3
      },
      "file_extension": ".py",
      "mimetype": "text/x-python",
      "name": "python",
      "nbconvert_exporter": "python",
      "pygments_lexer": "ipython3",
      "version": "3.8"
    }
  },
  "nbformat_minor": 4,
  "nbformat": 4,
  "cells": [
    {
      "cell_type": "markdown",
      "source": "Sergio Villa García\n22/Enero/2027\n\n# Python Base",
      "metadata": {}
    },
    {
      "cell_type": "code",
      "source": "lista = [\"Chris\", \n         \"Rob\", \n         \"Rober\", \n         \"jesus\", \n         \"Fran\",\n         \"Leo\", \n         \"Mar\", \n         \"Sergio\", \n         \"Nancy\"]",
      "metadata": {
        "trusted": true
      },
      "outputs": [],
      "execution_count": 29
    },
    {
      "cell_type": "code",
      "source": "",
      "metadata": {
        "trusted": true
      },
      "outputs": [],
      "execution_count": null
    },
    {
      "cell_type": "code",
      "source": "i = 0\nfor nombre in lista :\n    print (nombre)\n    i += 1\n    if i >= 5:\n        break",
      "metadata": {
        "trusted": true
      },
      "outputs": [
        {
          "name": "stdout",
          "text": "Chris\nRob\nRober\njesus\nFran\n",
          "output_type": "stream"
        }
      ],
      "execution_count": 30
    },
    {
      "cell_type": "markdown",
      "source": "Para saltar iteraciones",
      "metadata": {}
    },
    {
      "cell_type": "code",
      "source": "i = 0\nfor nombre in lista :\n    i+=1\n    if i % 2 ==0 :\n        continue\n    print (nombre)\n\n",
      "metadata": {
        "trusted": true
      },
      "outputs": [
        {
          "name": "stdout",
          "text": "Chris\nRober\nFran\nMar\nNancy\n",
          "output_type": "stream"
        }
      ],
      "execution_count": 14
    },
    {
      "cell_type": "markdown",
      "source": "## Listas ",
      "metadata": {}
    },
    {
      "cell_type": "code",
      "source": "lista",
      "metadata": {
        "trusted": true
      },
      "outputs": [
        {
          "execution_count": 16,
          "output_type": "execute_result",
          "data": {
            "text/plain": "['Chris', 'Rob', 'Rober', 'jesus', 'Fran', 'Leo', 'Mar', 'Sergio', 'Nancy']"
          },
          "metadata": {}
        }
      ],
      "execution_count": 16
    },
    {
      "cell_type": "code",
      "source": "lista [3]",
      "metadata": {
        "trusted": true
      },
      "outputs": [
        {
          "execution_count": 17,
          "output_type": "execute_result",
          "data": {
            "text/plain": "'jesus'"
          },
          "metadata": {}
        }
      ],
      "execution_count": 17
    },
    {
      "cell_type": "code",
      "source": "lista [3:4]\n",
      "metadata": {
        "trusted": true
      },
      "outputs": [
        {
          "execution_count": 18,
          "output_type": "execute_result",
          "data": {
            "text/plain": "['jesus']"
          },
          "metadata": {}
        }
      ],
      "execution_count": 18
    },
    {
      "cell_type": "code",
      "source": "lista [3:5]\n",
      "metadata": {
        "trusted": true
      },
      "outputs": [
        {
          "execution_count": 19,
          "output_type": "execute_result",
          "data": {
            "text/plain": "['jesus', 'Fran']"
          },
          "metadata": {}
        }
      ],
      "execution_count": 19
    },
    {
      "cell_type": "code",
      "source": "lista [:5]",
      "metadata": {
        "trusted": true
      },
      "outputs": [
        {
          "execution_count": 20,
          "output_type": "execute_result",
          "data": {
            "text/plain": "['Chris', 'Rob', 'Rober', 'jesus', 'Fran']"
          },
          "metadata": {}
        }
      ],
      "execution_count": 20
    },
    {
      "cell_type": "code",
      "source": "lista.insert(3, \"Adam Sandles\")",
      "metadata": {
        "trusted": true
      },
      "outputs": [],
      "execution_count": 33
    },
    {
      "cell_type": "code",
      "source": "lista",
      "metadata": {
        "trusted": true
      },
      "outputs": [
        {
          "execution_count": 30,
          "output_type": "execute_result",
          "data": {
            "text/plain": "['Chris',\n 'Rob',\n 'Rober',\n 'Adam Sandles',\n 'jesus',\n 'Fran',\n 'Leo',\n 'Mar',\n 'Sergio',\n 'Nancy']"
          },
          "metadata": {}
        }
      ],
      "execution_count": 30
    },
    {
      "cell_type": "markdown",
      "source": "lista.pop(3)",
      "metadata": {}
    },
    {
      "cell_type": "code",
      "source": "lista",
      "metadata": {
        "trusted": true,
        "scrolled": true
      },
      "outputs": [
        {
          "execution_count": 36,
          "output_type": "execute_result",
          "data": {
            "text/plain": "['Chris',\n 'Rob',\n 'Rober',\n 'Adam Sandles',\n 'Adam Sandles',\n 'Adam Sandles',\n 'jesus',\n 'Fran',\n 'Leo',\n 'Mar',\n 'Sergio',\n 'Nancy']"
          },
          "metadata": {}
        }
      ],
      "execution_count": 36
    },
    {
      "cell_type": "code",
      "source": "lista.remove(\"Adam Sandles\")",
      "metadata": {
        "trusted": true
      },
      "outputs": [],
      "execution_count": 37
    },
    {
      "cell_type": "code",
      "source": "lista",
      "metadata": {
        "trusted": true
      },
      "outputs": [
        {
          "execution_count": 38,
          "output_type": "execute_result",
          "data": {
            "text/plain": "['Chris',\n 'Rob',\n 'Rober',\n 'Adam Sandles',\n 'Adam Sandles',\n 'jesus',\n 'Fran',\n 'Leo',\n 'Mar',\n 'Sergio',\n 'Nancy']"
          },
          "metadata": {}
        }
      ],
      "execution_count": 38
    },
    {
      "cell_type": "code",
      "source": "",
      "metadata": {
        "trusted": true
      },
      "outputs": [],
      "execution_count": null
    },
    {
      "cell_type": "markdown",
      "source": "## Diccionarios",
      "metadata": {}
    },
    {
      "cell_type": "code",
      "source": "diccionario = {0: \"Cero\",\n               1: \"Uno\",\n               250: \"Doscientos cincuenta\",\n              \"Hola\": 123}\n",
      "metadata": {
        "trusted": true
      },
      "outputs": [],
      "execution_count": 23
    },
    {
      "cell_type": "code",
      "source": "diccionario [250]",
      "metadata": {
        "trusted": true
      },
      "outputs": [
        {
          "execution_count": 24,
          "output_type": "execute_result",
          "data": {
            "text/plain": "'Doscientos cincuenta'"
          },
          "metadata": {}
        }
      ],
      "execution_count": 24
    },
    {
      "cell_type": "code",
      "source": "diccionario.keys()\n\n",
      "metadata": {
        "trusted": true
      },
      "outputs": [],
      "execution_count": null
    },
    {
      "cell_type": "code",
      "source": "alumnos = {\n    \"Chris\" :{ \"Carrera\" : \"Fin\",\n               \"Cafe\" : \"Guich\" },\n    \"Nancy\" : { \"Carrera\" : \"Nano\",\n               \"Cafe\" : \"Mofra\" }}",
      "metadata": {
        "trusted": true
      },
      "outputs": [],
      "execution_count": 18
    },
    {
      "cell_type": "code",
      "source": "alumnos[\"Chris\"]",
      "metadata": {
        "trusted": true
      },
      "outputs": [
        {
          "execution_count": 28,
          "output_type": "execute_result",
          "data": {
            "text/plain": "{'Carrera': 'Fin', 'Cafe': 'Guich'}"
          },
          "metadata": {}
        }
      ],
      "execution_count": 28
    },
    {
      "cell_type": "markdown",
      "source": "## Ejemplo 1\n",
      "metadata": {}
    },
    {
      "cell_type": "code",
      "source": "lista = []\n#Lista.apend(x)\ncontador = 1\nwhile len(lista) < 200:\n    if contador % 3 == 0 : \n        lista.append(contador)\n    contador +=1",
      "metadata": {
        "trusted": true
      },
      "outputs": [],
      "execution_count": 19
    },
    {
      "cell_type": "code",
      "source": "lista\n",
      "metadata": {
        "trusted": true
      },
      "outputs": [
        {
          "execution_count": 23,
          "output_type": "execute_result",
          "data": {
            "text/plain": "[3,\n 6,\n 9,\n 12,\n 15,\n 18,\n 21,\n 24,\n 27,\n 30,\n 33,\n 36,\n 39,\n 42,\n 45,\n 48,\n 51,\n 54,\n 57,\n 60,\n 63,\n 66,\n 69,\n 72,\n 75,\n 78,\n 81,\n 84,\n 87,\n 90,\n 93,\n 96,\n 99,\n 102,\n 105,\n 108,\n 111,\n 114,\n 117,\n 120,\n 123,\n 126,\n 129,\n 132,\n 135,\n 138,\n 141,\n 144,\n 147,\n 150,\n 153,\n 156,\n 159,\n 162,\n 165,\n 168,\n 171,\n 174,\n 177,\n 180,\n 183,\n 186,\n 189,\n 192,\n 195,\n 198,\n 201,\n 204,\n 207,\n 210,\n 213,\n 216,\n 219,\n 222,\n 225,\n 228,\n 231,\n 234,\n 237,\n 240,\n 243,\n 246,\n 249,\n 252,\n 255,\n 258,\n 261,\n 264,\n 267,\n 270,\n 273,\n 276,\n 279,\n 282,\n 285,\n 288,\n 291,\n 294,\n 297,\n 300,\n 303,\n 306,\n 309,\n 312,\n 315,\n 318,\n 321,\n 324,\n 327,\n 330,\n 333,\n 336,\n 339,\n 342,\n 345,\n 348,\n 351,\n 354,\n 357,\n 360,\n 363,\n 366,\n 369,\n 372,\n 375,\n 378,\n 381,\n 384,\n 387,\n 390,\n 393,\n 396,\n 399,\n 402,\n 405,\n 408,\n 411,\n 414,\n 417,\n 420,\n 423,\n 426,\n 429,\n 432,\n 435,\n 438,\n 441,\n 444,\n 447,\n 450,\n 453,\n 456,\n 459,\n 462,\n 465,\n 468,\n 471,\n 474,\n 477,\n 480,\n 483,\n 486,\n 489,\n 492,\n 495,\n 498,\n 501,\n 504,\n 507,\n 510,\n 513,\n 516,\n 519,\n 522,\n 525,\n 528,\n 531,\n 534,\n 537,\n 540,\n 543,\n 546,\n 549,\n 552,\n 555,\n 558,\n 561,\n 564,\n 567,\n 570,\n 573,\n 576,\n 579,\n 582,\n 585,\n 588,\n 591,\n 594,\n 597,\n 600]"
          },
          "metadata": {}
        }
      ],
      "execution_count": 23
    },
    {
      "cell_type": "markdown",
      "source": "Aproxima la raiz con una func de numero dado multiplicando numeros enteros. x esta acotado de 0 a 1000",
      "metadata": {}
    },
    {
      "cell_type": "code",
      "source": "def aproximar_raiz(x):\n    i = 0\n    while i*i < x:\n        i += 1\n    return (i-1)\n\n\naproximar_raiz(260)    ",
      "metadata": {
        "trusted": true
      },
      "outputs": [
        {
          "execution_count": 20,
          "output_type": "execute_result",
          "data": {
            "text/plain": "16"
          },
          "metadata": {}
        }
      ],
      "execution_count": 20
    },
    {
      "cell_type": "markdown",
      "source": "Utilizar una func que reciba dos argumentos (str)\n\n* El primero por def es Hola\n* El segundo es abierto\n* La func debe concatenar",
      "metadata": {}
    },
    {
      "cell_type": "code",
      "source": "def concatenar (x1, x2= \"Hola \") :\n    return x2+x1",
      "metadata": {
        "trusted": true
      },
      "outputs": [],
      "execution_count": 21
    },
    {
      "cell_type": "code",
      "source": "concatenar (\"a todos\")",
      "metadata": {
        "trusted": true
      },
      "outputs": [
        {
          "execution_count": 22,
          "output_type": "execute_result",
          "data": {
            "text/plain": "'Hola a todos'"
          },
          "metadata": {}
        }
      ],
      "execution_count": 22
    },
    {
      "cell_type": "code",
      "source": "",
      "metadata": {
        "trusted": true
      },
      "outputs": [],
      "execution_count": null
    }
  ]
}